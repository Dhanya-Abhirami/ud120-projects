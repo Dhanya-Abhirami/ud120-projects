{
 "cells": [
  {
   "cell_type": "code",
   "execution_count": 1,
   "metadata": {},
   "outputs": [],
   "source": [
    "from nltk.corpus import stopwords\n",
    "sw = stopwords.words(\"english\")"
   ]
  },
  {
   "cell_type": "code",
   "execution_count": 2,
   "metadata": {},
   "outputs": [
    {
     "data": {
      "text/plain": [
       "u'i'"
      ]
     },
     "execution_count": 2,
     "metadata": {},
     "output_type": "execute_result"
    }
   ],
   "source": [
    "sw[0]"
   ]
  },
  {
   "cell_type": "code",
   "execution_count": 3,
   "metadata": {},
   "outputs": [
    {
     "data": {
      "text/plain": [
       "u\"you've\""
      ]
     },
     "execution_count": 3,
     "metadata": {},
     "output_type": "execute_result"
    }
   ],
   "source": [
    "sw[10]"
   ]
  },
  {
   "cell_type": "code",
   "execution_count": 4,
   "metadata": {},
   "outputs": [
    {
     "data": {
      "text/plain": [
       "179"
      ]
     },
     "execution_count": 4,
     "metadata": {},
     "output_type": "execute_result"
    }
   ],
   "source": [
    "len(sw)"
   ]
  },
  {
   "cell_type": "code",
   "execution_count": 5,
   "metadata": {},
   "outputs": [],
   "source": [
    "from nltk.stem.snowball import SnowballStemmer\n",
    "stemmer = SnowballStemmer(\"english\")"
   ]
  },
  {
   "cell_type": "code",
   "execution_count": 6,
   "metadata": {},
   "outputs": [
    {
     "data": {
      "text/plain": [
       "u'respons'"
      ]
     },
     "execution_count": 6,
     "metadata": {},
     "output_type": "execute_result"
    }
   ],
   "source": [
    "stemmer.stem(\"responsive\")"
   ]
  },
  {
   "cell_type": "code",
   "execution_count": 7,
   "metadata": {},
   "outputs": [
    {
     "data": {
      "text/plain": [
       "u'unrespons'"
      ]
     },
     "execution_count": 7,
     "metadata": {},
     "output_type": "execute_result"
    }
   ],
   "source": [
    "stemmer.stem(\"unresponsive\")"
   ]
  },
  {
   "cell_type": "code",
   "execution_count": 8,
   "metadata": {},
   "outputs": [
    {
     "data": {
      "text/plain": [
       "u'respons'"
      ]
     },
     "execution_count": 8,
     "metadata": {},
     "output_type": "execute_result"
    }
   ],
   "source": [
    "stemmer.stem(\"responsivity\")"
   ]
  },
  {
   "cell_type": "markdown",
   "metadata": {},
   "source": [
    "# Mini Project"
   ]
  },
  {
   "cell_type": "code",
   "execution_count": 9,
   "metadata": {},
   "outputs": [],
   "source": [
    "import os\n",
    "import pickle\n",
    "import re\n",
    "import sys\n",
    "\n",
    "sys.path.append( \"../tools/\" )\n",
    "from parse_out_email_text import parseOutText"
   ]
  },
  {
   "cell_type": "code",
   "execution_count": 10,
   "metadata": {},
   "outputs": [],
   "source": [
    "from_sara  = open(\"from_sara.txt\", \"r\")\n",
    "from_chris = open(\"from_chris.txt\", \"r\")\n",
    "\n"
   ]
  },
  {
   "cell_type": "code",
   "execution_count": 11,
   "metadata": {},
   "outputs": [],
   "source": [
    "from_data = []\n",
    "word_data = []\n",
    "\n",
    "temp_counter = 0\n",
    "\n",
    "\n",
    "for name, from_person in [(\"sara\", from_sara), (\"chris\", from_chris)]:\n",
    "    for path in from_person:\n",
    "        ### only look at first 200 emails when developing\n",
    "        ### once everything is working, remove this line to run over full dataset\n",
    "        temp_counter += 1\n",
    "        #if temp_counter < 200:\n",
    "        path = os.path.join('../', path[:-1])\n",
    "        #print path\n",
    "        email = open(path, \"r\")\n",
    "\n",
    "        ### use parseOutText to extract the text from the opened email\n",
    "        text = parseOutText(email)\n",
    "        ### use str.replace() to remove any instances of the words\n",
    "        for c in [\"sara\", \"shackleton\", \"chris\", \"germani\"]:\n",
    "            if c in text:\n",
    "                text = text.replace(c,\"\")\n",
    "        ### append the text to word_data\n",
    "        word_data.append(text)\n",
    "        ### append a 0 to from_data if email is from Sara, and 1 if email is from Chris\n",
    "        if name == \"sara\":\n",
    "            from_data.append(0)\n",
    "        else:\n",
    "            from_data.append(1)\n",
    "\n",
    "        email.close()\n"
   ]
  },
  {
   "cell_type": "code",
   "execution_count": 12,
   "metadata": {},
   "outputs": [
    {
     "name": "stdout",
     "output_type": "stream",
     "text": [
      "word[152]:  tjonesnsf\r\n",
      "\r\n",
      "stephani and sam need nymex calendar\n"
     ]
    }
   ],
   "source": [
    "print \"word[152]: \",word_data[152]"
   ]
  },
  {
   "cell_type": "code",
   "execution_count": 13,
   "metadata": {},
   "outputs": [],
   "source": [
    "from_sara.close()\n",
    "from_chris.close()"
   ]
  },
  {
   "cell_type": "code",
   "execution_count": 14,
   "metadata": {},
   "outputs": [],
   "source": [
    "pickle.dump( word_data, open(\"your_word_data.pkl\", \"w\") )\n",
    "pickle.dump( from_data, open(\"your_email_authors.pkl\", \"w\") )"
   ]
  },
  {
   "cell_type": "markdown",
   "metadata": {},
   "source": [
    "### TFIDF It"
   ]
  },
  {
   "cell_type": "code",
   "execution_count": 15,
   "metadata": {},
   "outputs": [
    {
     "name": "stdout",
     "output_type": "stream",
     "text": [
      "42285\n"
     ]
    }
   ],
   "source": [
    "from sklearn.feature_extraction import text\n",
    "vectorizer = text.TfidfVectorizer(stop_words=\"english\",lowercase=True)\n",
    "vectorizer.fit_transform(word_data)\n",
    "print len(vectorizer.get_feature_names())"
   ]
  },
  {
   "cell_type": "code",
   "execution_count": 16,
   "metadata": {},
   "outputs": [
    {
     "name": "stdout",
     "output_type": "stream",
     "text": [
      "repswarranti\n"
     ]
    }
   ],
   "source": [
    "print vectorizer.get_feature_names()[34597]"
   ]
  },
  {
   "cell_type": "markdown",
   "metadata": {},
   "source": [
    "### Removing an outlier found in feature selection phase"
   ]
  },
  {
   "cell_type": "code",
   "execution_count": 25,
   "metadata": {},
   "outputs": [
    {
     "name": "stdout",
     "output_type": "stream",
     "text": [
      "\n"
     ]
    }
   ],
   "source": [
    "from_sara  = open(\"from_sara.txt\", \"r\")\n",
    "from_chris = open(\"from_chris.txt\", \"r\")\n",
    "\n",
    "from_data_new = []\n",
    "word_data_new = []\n",
    "\n",
    "temp_counter = 0\n",
    "\n",
    "\n",
    "for name, from_person in [(\"sara\", from_sara), (\"chris\", from_chris)]:\n",
    "    for path in from_person:\n",
    "        ### only look at first 200 emails when developing\n",
    "        ### once everything is working, remove this line to run over full dataset\n",
    "        temp_counter += 1\n",
    "        #if temp_counter < 200:\n",
    "        path = os.path.join('../', path[:-1])\n",
    "        #print path\n",
    "        email = open(path, \"r\")\n",
    "\n",
    "        ### use parseOutText to extract the text from the opened email\n",
    "        text = parseOutText(email)\n",
    "        ### use str.replace() to remove any instances of the words\n",
    "        for c in [\"sara\", \"shackleton\", \"chris\", \"germani\",\"sshacklensf\"]:### Here\n",
    "            if c in text:\n",
    "                text = text.replace(c,\"\")\n",
    "        ### append the text to word_data\n",
    "        word_data_new.append(text)\n",
    "        ### append a 0 to from_data if email is from Sara, and 1 if email is from Chris\n",
    "        if name == \"sara\":\n",
    "            from_data_new.append(0)\n",
    "        else:\n",
    "            from_data_new.append(1)\n",
    "\n",
    "        email.close()\n",
    "\n",
    "from_sara.close()\n",
    "from_chris.close()\n",
    "\n",
    "pickle.dump( word_data_new, open(\"your_word_data.pkl\", \"w\") )\n",
    "pickle.dump( from_data_new, open(\"your_email_authors.pkl\", \"w\") )\n",
    "\n",
    "from sklearn.feature_extraction import text\n",
    "vectorizer = text.TfidfVectorizer(stop_words=\"english\",lowercase=True)\n",
    "vectorizer.fit_transform(word_data)\n",
    "print "
   ]
  },
  {
   "cell_type": "code",
   "execution_count": 26,
   "metadata": {},
   "outputs": [
    {
     "name": "stdout",
     "output_type": "stream",
     "text": [
      "\n"
     ]
    }
   ],
   "source": [
    "from_sara  = open(\"from_sara.txt\", \"r\")\n",
    "from_chris = open(\"from_chris.txt\", \"r\")\n",
    "\n",
    "from_data_new = []\n",
    "word_data_new = []\n",
    "\n",
    "temp_counter = 0\n",
    "\n",
    "\n",
    "for name, from_person in [(\"sara\", from_sara), (\"chris\", from_chris)]:\n",
    "    for path in from_person:\n",
    "        ### only look at first 200 emails when developing\n",
    "        ### once everything is working, remove this line to run over full dataset\n",
    "        temp_counter += 1\n",
    "        #if temp_counter < 200:\n",
    "        path = os.path.join('../', path[:-1])\n",
    "        #print path\n",
    "        email = open(path, \"r\")\n",
    "\n",
    "        ### use parseOutText to extract the text from the opened email\n",
    "        text = parseOutText(email)\n",
    "        ### use str.replace() to remove any instances of the words\n",
    "        for c in [\"sara\", \"shackleton\", \"chris\", \"germani\",\"sshacklensf\",\"cgermannsf\"]:### Here\n",
    "            if c in text:\n",
    "                text = text.replace(c,\"\")\n",
    "        ### append the text to word_data\n",
    "        word_data_new.append(text)\n",
    "        ### append a 0 to from_data if email is from Sara, and 1 if email is from Chris\n",
    "        if name == \"sara\":\n",
    "            from_data_new.append(0)\n",
    "        else:\n",
    "            from_data_new.append(1)\n",
    "\n",
    "        email.close()\n",
    "\n",
    "from_sara.close()\n",
    "from_chris.close()\n",
    "\n",
    "pickle.dump( word_data_new, open(\"your_word_data.pkl\", \"w\") )\n",
    "pickle.dump( from_data_new, open(\"your_email_authors.pkl\", \"w\") )\n",
    "\n",
    "from sklearn.feature_extraction import text\n",
    "vectorizer = text.TfidfVectorizer(stop_words=\"english\",lowercase=True)\n",
    "vectorizer.fit_transform(word_data)\n",
    "print "
   ]
  },
  {
   "cell_type": "code",
   "execution_count": null,
   "metadata": {},
   "outputs": [],
   "source": []
  }
 ],
 "metadata": {
  "kernelspec": {
   "display_name": "Python 2",
   "language": "python",
   "name": "python2"
  },
  "language_info": {
   "codemirror_mode": {
    "name": "ipython",
    "version": 2
   },
   "file_extension": ".py",
   "mimetype": "text/x-python",
   "name": "python",
   "nbconvert_exporter": "python",
   "pygments_lexer": "ipython2",
   "version": "2.7.12"
  }
 },
 "nbformat": 4,
 "nbformat_minor": 2
}
