{
 "cells": [
  {
   "cell_type": "markdown",
   "metadata": {},
   "source": [
    "## a. Exploring the dataset"
   ]
  },
  {
   "cell_type": "code",
   "execution_count": 1,
   "metadata": {},
   "outputs": [],
   "source": [
    "#!/usr/bin/python\n",
    "import pickle\n",
    "enron_data = pickle.load(open(\"../final_project/final_project_dataset.pkl\", \"rb\"))\n"
   ]
  },
  {
   "cell_type": "markdown",
   "metadata": {},
   "source": [
    "### Size of Dataset"
   ]
  },
  {
   "cell_type": "code",
   "execution_count": 2,
   "metadata": {},
   "outputs": [
    {
     "name": "stdout",
     "output_type": "stream",
     "text": [
      "('Size of dataset is', 146)\n"
     ]
    }
   ],
   "source": [
    "dataset_size=len(enron_data)\n",
    "print(\"Size of dataset is\",dataset_size)"
   ]
  },
  {
   "cell_type": "markdown",
   "metadata": {},
   "source": [
    "### Number of Features"
   ]
  },
  {
   "cell_type": "code",
   "execution_count": 3,
   "metadata": {},
   "outputs": [
    {
     "name": "stdout",
     "output_type": "stream",
     "text": [
      "21\n"
     ]
    }
   ],
   "source": [
    "print(len(enron_data[\"SKILLING JEFFREY K\"]))"
   ]
  },
  {
   "cell_type": "markdown",
   "metadata": {},
   "source": [
    "### The Features"
   ]
  },
  {
   "cell_type": "code",
   "execution_count": 4,
   "metadata": {},
   "outputs": [
    {
     "name": "stdout",
     "output_type": "stream",
     "text": [
      "['salary', 'to_messages', 'deferral_payments', 'total_payments', 'exercised_stock_options', 'bonus', 'restricted_stock', 'shared_receipt_with_poi', 'restricted_stock_deferred', 'total_stock_value', 'expenses', 'loan_advances', 'from_messages', 'other', 'from_this_person_to_poi', 'poi', 'director_fees', 'deferred_income', 'long_term_incentive', 'email_address', 'from_poi_to_this_person']\n"
     ]
    }
   ],
   "source": [
    "print(enron_data[\"SKILLING JEFFREY K\"].keys())"
   ]
  },
  {
   "cell_type": "markdown",
   "metadata": {},
   "source": [
    "### Number of POI"
   ]
  },
  {
   "cell_type": "code",
   "execution_count": 5,
   "metadata": {},
   "outputs": [
    {
     "name": "stdout",
     "output_type": "stream",
     "text": [
      "('Number of POIs is', 18)\n"
     ]
    }
   ],
   "source": [
    "poi=[]\n",
    "count=0\n",
    "for k in enron_data.keys():\n",
    "    if enron_data[k]['poi']==1:\n",
    "        count+=1\n",
    "        poi.append(k)\n",
    "print(\"Number of POIs is\",count)"
   ]
  },
  {
   "cell_type": "markdown",
   "metadata": {},
   "source": [
    "### Q1. What is the total value of the stock belonging to James Prentice"
   ]
  },
  {
   "cell_type": "code",
   "execution_count": 6,
   "metadata": {},
   "outputs": [
    {
     "name": "stdout",
     "output_type": "stream",
     "text": [
      "1095040\n"
     ]
    }
   ],
   "source": [
    "print(enron_data[\"PRENTICE JAMES\"]['total_stock_value'])"
   ]
  },
  {
   "cell_type": "markdown",
   "metadata": {},
   "source": [
    "### Q2. How many email messages do we have from Wesley Colwell to persons of interest?"
   ]
  },
  {
   "cell_type": "code",
   "execution_count": 7,
   "metadata": {},
   "outputs": [
    {
     "name": "stdout",
     "output_type": "stream",
     "text": [
      "11\n"
     ]
    }
   ],
   "source": [
    "print(enron_data[\"COLWELL WESLEY\"]['from_this_person_to_poi'])"
   ]
  },
  {
   "cell_type": "markdown",
   "metadata": {},
   "source": [
    "### Q3. What's the value of stock options exercised by Jeffrey K Skilling? "
   ]
  },
  {
   "cell_type": "code",
   "execution_count": 8,
   "metadata": {},
   "outputs": [
    {
     "name": "stdout",
     "output_type": "stream",
     "text": [
      "19250000\n"
     ]
    }
   ],
   "source": [
    "print(enron_data[\"SKILLING JEFFREY K\"]['exercised_stock_options'])"
   ]
  },
  {
   "cell_type": "markdown",
   "metadata": {},
   "source": [
    "### People at the helm and their payments"
   ]
  },
  {
   "cell_type": "code",
   "execution_count": 9,
   "metadata": {},
   "outputs": [
    {
     "name": "stdout",
     "output_type": "stream",
     "text": [
      "('SKILLING JEFFREY K', 8682716)\n",
      "('LAY KENNETH L', 103559793)\n",
      "('FASTOW ANDREW S', 2424083)\n"
     ]
    }
   ],
   "source": [
    "for k in [\"SKILLING JEFFREY K\",\"LAY KENNETH L\",\"FASTOW ANDREW S\"]:\n",
    "    print(k,enron_data[k]['total_payments'])"
   ]
  },
  {
   "cell_type": "markdown",
   "metadata": {},
   "source": [
    "Quantified Salary and Email Address"
   ]
  },
  {
   "cell_type": "code",
   "execution_count": 10,
   "metadata": {},
   "outputs": [
    {
     "name": "stdout",
     "output_type": "stream",
     "text": [
      "('Quatified Salary: ', 95)\n",
      "('Quantified Email Address: ', 111)\n"
     ]
    }
   ],
   "source": [
    "salcount=emailcount=0\n",
    "for k in enron_data.keys():\n",
    "    if enron_data[k]['salary']!='NaN':\n",
    "        salcount+=1\n",
    "    if enron_data[k]['email_address']!='NaN':\n",
    "        emailcount+=1\n",
    "print('Quatified Salary: ',salcount)\n",
    "print('Quantified Email Address: ',emailcount)"
   ]
  },
  {
   "cell_type": "markdown",
   "metadata": {},
   "source": [
    "\n",
    "How many people in the E+F dataset (as it currently exists) have “NaN” for their total payments? What percentage of people in the dataset as a whole is this?"
   ]
  },
  {
   "cell_type": "code",
   "execution_count": 11,
   "metadata": {},
   "outputs": [
    {
     "name": "stdout",
     "output_type": "stream",
     "text": [
      "('Number of people with NaN in total payments: ', 21)\n",
      "('Percentage: ', 0.0, '%')\n"
     ]
    }
   ],
   "source": [
    "total_payments_nan=0\n",
    "for k in enron_data.keys():\n",
    "    if enron_data[k]['total_payments']=='NaN':\n",
    "        total_payments_nan+=1\n",
    "print(\"Number of people with NaN in total payments: \",total_payments_nan)\n",
    "print(\"Percentage: \",round(total_payments_nan/dataset_size*100,2),\"%\")"
   ]
  },
  {
   "cell_type": "code",
   "execution_count": 12,
   "metadata": {},
   "outputs": [
    {
     "name": "stdout",
     "output_type": "stream",
     "text": [
      "('Number of POI with NaN in total payments: ', 0)\n",
      "('Percentage: ', 0.0)\n"
     ]
    }
   ],
   "source": [
    "poi_total_payments_nan=0\n",
    "for k in poi:\n",
    "    if enron_data[k]['total_payments']=='NaN':\n",
    "        poi_totpayments_nan+=1\n",
    "print(\"Number of POI with NaN in total payments: \",poi_total_payments_nan)\n",
    "print(\"Percentage: \",round(poi_total_payments_nan/dataset_size*100,2))"
   ]
  }
 ],
 "metadata": {
  "kernelspec": {
   "display_name": "Python 2",
   "language": "python",
   "name": "python2"
  },
  "language_info": {
   "codemirror_mode": {
    "name": "ipython",
    "version": 2
   },
   "file_extension": ".py",
   "mimetype": "text/x-python",
   "name": "python",
   "nbconvert_exporter": "python",
   "pygments_lexer": "ipython2",
   "version": "2.7.12"
  }
 },
 "nbformat": 4,
 "nbformat_minor": 2
}
